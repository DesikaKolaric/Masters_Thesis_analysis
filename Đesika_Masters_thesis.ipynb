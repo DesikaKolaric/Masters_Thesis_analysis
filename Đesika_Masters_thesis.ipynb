{
  "nbformat": 4,
  "nbformat_minor": 0,
  "metadata": {
    "colab": {
      "name": "Đesika Masters thesis",
      "provenance": []
    },
    "kernelspec": {
      "name": "python3",
      "display_name": "Python 3"
    }
  },
  "cells": [
    {
      "cell_type": "markdown",
      "metadata": {
        "id": "r5UtnNWkZe_S"
      },
      "source": [
        "# Import libraries"
      ]
    },
    {
      "cell_type": "code",
      "metadata": {
        "id": "0IZdCa3YsAbV"
      },
      "source": [
        "import numpy as np\n",
        "import pandas as pd\n",
        "import bokeh.plotting as bk\n",
        "from bokeh.io import output_notebook\n",
        "import seaborn as sns\n",
        "import matplotlib.pyplot as plt\n",
        "import plotly.express as px\n",
        "sns.set(font_scale=2.5)\n",
        "output_notebook()"
      ],
      "execution_count": 1,
      "outputs": []
    },
    {
      "cell_type": "markdown",
      "metadata": {
        "id": "ml2yKf4Xdseh"
      },
      "source": [
        "## Read excel table and convert to pandas dataframe"
      ]
    },
    {
      "cell_type": "code",
      "metadata": {
        "id": "oRcVG4XdYyKe",
        "colab": {
          "base_uri": "https://localhost:8080/",
          "height": 320
        },
        "outputId": "e725f666-f8cd-4061-fbfe-f2d0cd105cdf"
      },
      "source": [
        "df = pd.read_excel('totalrawSTZ.xlsx')"
      ],
      "execution_count": 2,
      "outputs": [
        {
          "output_type": "error",
          "ename": "FileNotFoundError",
          "evalue": "ignored",
          "traceback": [
            "\u001b[0;31m---------------------------------------------------------------------------\u001b[0m",
            "\u001b[0;31mFileNotFoundError\u001b[0m                         Traceback (most recent call last)",
            "\u001b[0;32m<ipython-input-2-95df586b208b>\u001b[0m in \u001b[0;36m<module>\u001b[0;34m()\u001b[0m\n\u001b[0;32m----> 1\u001b[0;31m \u001b[0mdf\u001b[0m \u001b[0;34m=\u001b[0m \u001b[0mpd\u001b[0m\u001b[0;34m.\u001b[0m\u001b[0mread_excel\u001b[0m\u001b[0;34m(\u001b[0m\u001b[0;34m'totalrawSTZ.xlsx'\u001b[0m\u001b[0;34m)\u001b[0m\u001b[0;34m\u001b[0m\u001b[0;34m\u001b[0m\u001b[0m\n\u001b[0m",
            "\u001b[0;32m/usr/local/lib/python3.7/dist-packages/pandas/util/_decorators.py\u001b[0m in \u001b[0;36mwrapper\u001b[0;34m(*args, **kwargs)\u001b[0m\n\u001b[1;32m    309\u001b[0m                     \u001b[0mstacklevel\u001b[0m\u001b[0;34m=\u001b[0m\u001b[0mstacklevel\u001b[0m\u001b[0;34m,\u001b[0m\u001b[0;34m\u001b[0m\u001b[0;34m\u001b[0m\u001b[0m\n\u001b[1;32m    310\u001b[0m                 )\n\u001b[0;32m--> 311\u001b[0;31m             \u001b[0;32mreturn\u001b[0m \u001b[0mfunc\u001b[0m\u001b[0;34m(\u001b[0m\u001b[0;34m*\u001b[0m\u001b[0margs\u001b[0m\u001b[0;34m,\u001b[0m \u001b[0;34m**\u001b[0m\u001b[0mkwargs\u001b[0m\u001b[0;34m)\u001b[0m\u001b[0;34m\u001b[0m\u001b[0;34m\u001b[0m\u001b[0m\n\u001b[0m\u001b[1;32m    312\u001b[0m \u001b[0;34m\u001b[0m\u001b[0m\n\u001b[1;32m    313\u001b[0m         \u001b[0;32mreturn\u001b[0m \u001b[0mwrapper\u001b[0m\u001b[0;34m\u001b[0m\u001b[0;34m\u001b[0m\u001b[0m\n",
            "\u001b[0;32m/usr/local/lib/python3.7/dist-packages/pandas/io/excel/_base.py\u001b[0m in \u001b[0;36mread_excel\u001b[0;34m(io, sheet_name, header, names, index_col, usecols, squeeze, dtype, engine, converters, true_values, false_values, skiprows, nrows, na_values, keep_default_na, na_filter, verbose, parse_dates, date_parser, thousands, comment, skipfooter, convert_float, mangle_dupe_cols, storage_options)\u001b[0m\n\u001b[1;32m    362\u001b[0m     \u001b[0;32mif\u001b[0m \u001b[0;32mnot\u001b[0m \u001b[0misinstance\u001b[0m\u001b[0;34m(\u001b[0m\u001b[0mio\u001b[0m\u001b[0;34m,\u001b[0m \u001b[0mExcelFile\u001b[0m\u001b[0;34m)\u001b[0m\u001b[0;34m:\u001b[0m\u001b[0;34m\u001b[0m\u001b[0;34m\u001b[0m\u001b[0m\n\u001b[1;32m    363\u001b[0m         \u001b[0mshould_close\u001b[0m \u001b[0;34m=\u001b[0m \u001b[0;32mTrue\u001b[0m\u001b[0;34m\u001b[0m\u001b[0;34m\u001b[0m\u001b[0m\n\u001b[0;32m--> 364\u001b[0;31m         \u001b[0mio\u001b[0m \u001b[0;34m=\u001b[0m \u001b[0mExcelFile\u001b[0m\u001b[0;34m(\u001b[0m\u001b[0mio\u001b[0m\u001b[0;34m,\u001b[0m \u001b[0mstorage_options\u001b[0m\u001b[0;34m=\u001b[0m\u001b[0mstorage_options\u001b[0m\u001b[0;34m,\u001b[0m \u001b[0mengine\u001b[0m\u001b[0;34m=\u001b[0m\u001b[0mengine\u001b[0m\u001b[0;34m)\u001b[0m\u001b[0;34m\u001b[0m\u001b[0;34m\u001b[0m\u001b[0m\n\u001b[0m\u001b[1;32m    365\u001b[0m     \u001b[0;32melif\u001b[0m \u001b[0mengine\u001b[0m \u001b[0;32mand\u001b[0m \u001b[0mengine\u001b[0m \u001b[0;34m!=\u001b[0m \u001b[0mio\u001b[0m\u001b[0;34m.\u001b[0m\u001b[0mengine\u001b[0m\u001b[0;34m:\u001b[0m\u001b[0;34m\u001b[0m\u001b[0;34m\u001b[0m\u001b[0m\n\u001b[1;32m    366\u001b[0m         raise ValueError(\n",
            "\u001b[0;32m/usr/local/lib/python3.7/dist-packages/pandas/io/excel/_base.py\u001b[0m in \u001b[0;36m__init__\u001b[0;34m(self, path_or_buffer, engine, storage_options)\u001b[0m\n\u001b[1;32m   1190\u001b[0m             \u001b[0;32melse\u001b[0m\u001b[0;34m:\u001b[0m\u001b[0;34m\u001b[0m\u001b[0;34m\u001b[0m\u001b[0m\n\u001b[1;32m   1191\u001b[0m                 ext = inspect_excel_format(\n\u001b[0;32m-> 1192\u001b[0;31m                     \u001b[0mcontent_or_path\u001b[0m\u001b[0;34m=\u001b[0m\u001b[0mpath_or_buffer\u001b[0m\u001b[0;34m,\u001b[0m \u001b[0mstorage_options\u001b[0m\u001b[0;34m=\u001b[0m\u001b[0mstorage_options\u001b[0m\u001b[0;34m\u001b[0m\u001b[0;34m\u001b[0m\u001b[0m\n\u001b[0m\u001b[1;32m   1193\u001b[0m                 )\n\u001b[1;32m   1194\u001b[0m                 \u001b[0;32mif\u001b[0m \u001b[0mext\u001b[0m \u001b[0;32mis\u001b[0m \u001b[0;32mNone\u001b[0m\u001b[0;34m:\u001b[0m\u001b[0;34m\u001b[0m\u001b[0;34m\u001b[0m\u001b[0m\n",
            "\u001b[0;32m/usr/local/lib/python3.7/dist-packages/pandas/io/excel/_base.py\u001b[0m in \u001b[0;36minspect_excel_format\u001b[0;34m(content_or_path, storage_options)\u001b[0m\n\u001b[1;32m   1069\u001b[0m \u001b[0;34m\u001b[0m\u001b[0m\n\u001b[1;32m   1070\u001b[0m     with get_handle(\n\u001b[0;32m-> 1071\u001b[0;31m         \u001b[0mcontent_or_path\u001b[0m\u001b[0;34m,\u001b[0m \u001b[0;34m\"rb\"\u001b[0m\u001b[0;34m,\u001b[0m \u001b[0mstorage_options\u001b[0m\u001b[0;34m=\u001b[0m\u001b[0mstorage_options\u001b[0m\u001b[0;34m,\u001b[0m \u001b[0mis_text\u001b[0m\u001b[0;34m=\u001b[0m\u001b[0;32mFalse\u001b[0m\u001b[0;34m\u001b[0m\u001b[0;34m\u001b[0m\u001b[0m\n\u001b[0m\u001b[1;32m   1072\u001b[0m     ) as handle:\n\u001b[1;32m   1073\u001b[0m         \u001b[0mstream\u001b[0m \u001b[0;34m=\u001b[0m \u001b[0mhandle\u001b[0m\u001b[0;34m.\u001b[0m\u001b[0mhandle\u001b[0m\u001b[0;34m\u001b[0m\u001b[0;34m\u001b[0m\u001b[0m\n",
            "\u001b[0;32m/usr/local/lib/python3.7/dist-packages/pandas/io/common.py\u001b[0m in \u001b[0;36mget_handle\u001b[0;34m(path_or_buf, mode, encoding, compression, memory_map, is_text, errors, storage_options)\u001b[0m\n\u001b[1;32m    709\u001b[0m         \u001b[0;32melse\u001b[0m\u001b[0;34m:\u001b[0m\u001b[0;34m\u001b[0m\u001b[0;34m\u001b[0m\u001b[0m\n\u001b[1;32m    710\u001b[0m             \u001b[0;31m# Binary mode\u001b[0m\u001b[0;34m\u001b[0m\u001b[0;34m\u001b[0m\u001b[0;34m\u001b[0m\u001b[0m\n\u001b[0;32m--> 711\u001b[0;31m             \u001b[0mhandle\u001b[0m \u001b[0;34m=\u001b[0m \u001b[0mopen\u001b[0m\u001b[0;34m(\u001b[0m\u001b[0mhandle\u001b[0m\u001b[0;34m,\u001b[0m \u001b[0mioargs\u001b[0m\u001b[0;34m.\u001b[0m\u001b[0mmode\u001b[0m\u001b[0;34m)\u001b[0m\u001b[0;34m\u001b[0m\u001b[0;34m\u001b[0m\u001b[0m\n\u001b[0m\u001b[1;32m    712\u001b[0m         \u001b[0mhandles\u001b[0m\u001b[0;34m.\u001b[0m\u001b[0mappend\u001b[0m\u001b[0;34m(\u001b[0m\u001b[0mhandle\u001b[0m\u001b[0;34m)\u001b[0m\u001b[0;34m\u001b[0m\u001b[0;34m\u001b[0m\u001b[0m\n\u001b[1;32m    713\u001b[0m \u001b[0;34m\u001b[0m\u001b[0m\n",
            "\u001b[0;31mFileNotFoundError\u001b[0m: [Errno 2] No such file or directory: 'totalrawSTZ.xlsx'"
          ]
        }
      ]
    },
    {
      "cell_type": "code",
      "metadata": {
        "id": "WWRfsSE9dmsr"
      },
      "source": [
        "df"
      ],
      "execution_count": null,
      "outputs": []
    },
    {
      "cell_type": "markdown",
      "metadata": {
        "id": "xlPMf1qKjyNK"
      },
      "source": [
        "# Data Preprocessing (removing NaN, removing outliers)"
      ]
    },
    {
      "cell_type": "code",
      "metadata": {
        "id": "JFqRTMeAnxNl"
      },
      "source": [
        "df_CTR_1month = df[(df.month == '1month') & (df.group == 'CTR')]\n",
        "df_CTR_1month = df_CTR_1month.fillna(df_CTR_1month.mean())\n",
        "\n",
        "df_STZ03_1month = df[(df.month == '1month') & (df.group == 'STZ03')]\n",
        "df_STZ03_1month = df_STZ03_1month.fillna(df_STZ03_1month.mean())\n",
        "\n",
        "df_STZ1_1month = df[(df.month == '1month') & (df.group == 'STZ1')]\n",
        "df_STZ1_1month = df_STZ1_1month.fillna(df_STZ1_1month.mean())\n",
        "\n",
        "df_STZ3_1month = df[(df.month == '1month') & (df.group == 'STZ3')]\n",
        "df_STZ3_1month = df_STZ3_1month.fillna(df_STZ3_1month.mean())\n",
        "\n",
        "df_CTR_3months = df[(df.month == '3months') & (df.group == 'CTR')]\n",
        "df_CTR_3months = df_CTR_3months.fillna(df_CTR_3months.mean())\n",
        "\n",
        "df_STZ03_3months = df[(df.month == '3months') & (df.group == 'STZ03')]\n",
        "df_STZ03_3months = df_STZ03_3months.fillna(df_STZ03_3months.mean())\n",
        "\n",
        "df_STZ1_3months = df[(df.month == '3months') & (df.group == 'STZ1')]\n",
        "df_STZ1_3months = df_STZ1_3months.fillna(df_STZ1_3months.mean())\n",
        "\n",
        "df_STZ3_3months = df[(df.month == '3months') & (df.group == 'STZ3')]\n",
        "df_STZ3_3months = df_STZ3_3months.fillna(df_STZ3_3months.mean())\n",
        "\n",
        "df_CTR_6months = df[(df.month == '6months') & (df.group == 'CTR')]\n",
        "df_CTR_6months = df_CTR_6months.fillna(df_CTR_6months.mean())\n",
        "\n",
        "df_STZ03_6months = df[(df.month == '6months') & (df.group == 'STZ03')]\n",
        "df_STZ03_6months = df_STZ03_6months.fillna(df_STZ03_6months.mean())\n",
        "\n",
        "df_STZ1_6months = df[(df.month == '6months') & (df.group == 'STZ1')]\n",
        "df_STZ1_6months = df_STZ1_6months.fillna(df_STZ1_6months.mean())\n",
        "\n",
        "df_STZ3_6months = df[(df.month == '6months') & (df.group == 'STZ3')]\n",
        "df_STZ3_6months = df_STZ3_6months.fillna(df_STZ3_6months.mean())\n",
        "\n",
        "df_CTR_9months = df[(df.month == '9months') & (df.group == 'CTR')]\n",
        "df_CTR_9months = df_CTR_9months.fillna(df_CTR_9months.mean())\n",
        "\n",
        "df_STZ03_9months = df[(df.month == '9months') & (df.group == 'STZ03')]\n",
        "df_STZ03_9months = df_STZ03_9months.fillna(df_STZ03_9months.mean())\n",
        "\n",
        "df_STZ1_9months = df[(df.month == '9months') & (df.group == 'STZ1')]\n",
        "df_STZ1_9months = df_STZ1_9months.fillna(df_STZ1_9months.mean())\n",
        "\n",
        "df_STZ3_9months = df[(df.month == '9months') & (df.group == 'STZ3')]\n",
        "df_STZ3_9months = df_STZ3_9months.fillna(df_STZ3_9months.mean())\n"
      ],
      "execution_count": null,
      "outputs": []
    },
    {
      "cell_type": "markdown",
      "metadata": {
        "id": "rhQmSCPVq7S5"
      },
      "source": [
        "## Rejoin sub-dataframes to form group-wise and region-wise dataframes"
      ]
    },
    {
      "cell_type": "code",
      "metadata": {
        "id": "n1wl-1Rm7OL2"
      },
      "source": [
        "df = pd.concat([df_CTR_1month,\n",
        "                df_CTR_3months,\n",
        "                df_CTR_6months,\n",
        "                df_CTR_9months,\n",
        "                df_STZ03_1month,\n",
        "                df_STZ03_3months,\n",
        "                df_STZ03_6months,\n",
        "                df_STZ03_9months,\n",
        "                df_STZ1_1month,\n",
        "                df_STZ1_3months,\n",
        "                df_STZ1_6months,\n",
        "                df_STZ1_9months,\n",
        "                df_STZ3_1month,\n",
        "                df_STZ3_3months,\n",
        "                df_STZ3_6months,\n",
        "                df_STZ3_9months])\n",
        "\n",
        "df_ctrl = pd.concat([df_ctrl_hpt,\n",
        "                     df_ctrl_hpc])\n",
        "\n",
        "df_60   = pd.concat([df_60_hpt,\n",
        "                     df_60_hpc])\n",
        "\n",
        "df_85   = pd.concat([df_85_hpt,\n",
        "                     df_85_hpc])\n",
        "\n",
        "df_125  = pd.concat([df_125_hpt,\n",
        "                     df_125_hpc])\n",
        "\n",
        "df_hpt  = pd.concat([df_ctrl_hpt,\n",
        "                       df_60_hpt,\n",
        "                       df_85_hpt,\n",
        "                      df_125_hpt])\n",
        "\n",
        "df_hpc  = pd.concat([df_ctrl_hpc,\n",
        "                       df_60_hpc,\n",
        "                       df_85_hpc,\n",
        "                      df_125_hpc])\n",
        "\n",
        "df.sort_index()\n",
        "df_ctrl.sort_index()\n",
        "df_60.sort_index()\n",
        "df_85.sort_index()\n",
        "df_125.sort_index()\n",
        "df_hpt.sort_index()\n",
        "df_hpc.sort_index()"
      ],
      "execution_count": null,
      "outputs": []
    },
    {
      "cell_type": "markdown",
      "metadata": {
        "id": "fxawdCihueL0"
      },
      "source": [
        "#### 3D visualization "
      ]
    },
    {
      "cell_type": "code",
      "metadata": {
        "id": "lsQGBjxSuhap"
      },
      "source": [
        "fig = px.scatter_3d(df, x='ir', y='cfos', z='perk', color='group', symbol='region', width=1000, height=700, title='3D vizualizacija ekspresije proteina')\n",
        "fig.show()\n",
        "fig = px.scatter_3d(df_hpt, x='ir', y='cfos', z='perk', color='group', symbol='region', width=1000, height=700, title='3D vizualizacija ekspresije proteina u hipotalamusu')\n",
        "fig.show()\n",
        "fig = px.scatter_3d(df_hpc, x='ir', y='cfos', z='perk', color='group', symbol='region', width=1000, height=700, title='3D vizualizacija ekspresije proteina u hipokampusu')\n",
        "fig.show()"
      ],
      "execution_count": null,
      "outputs": []
    },
    {
      "cell_type": "code",
      "metadata": {
        "id": "CW0LSzMrhioK"
      },
      "source": [
        "def heatmapa(dataframe, naslov, ax = None):\n",
        "  columns = (dataframe.columns.to_list())\n",
        "  columns.remove('ID')\n",
        "  columns.remove('group')\n",
        "  dataframe_to_process = dataframe[columns]\n",
        "\n",
        "  correlation_matrix = dataframe_to_process.corr()\n",
        "  fig = sns.heatmap(correlation_matrix, annot = True, cmap=\"YlGnBu\", mask=np.triu(correlation_matrix),vmin=-1, vmax=1, ax=ax)\n",
        "  fig.set_title(naslov, fontsize=35, fontweight='bold')\n",
        "\n",
        "  return fig"
      ],
      "execution_count": null,
      "outputs": []
    },
    {
      "cell_type": "markdown",
      "metadata": {
        "id": "u26oXsPVfqsQ"
      },
      "source": [
        "## Correlation of protein expression per brain region\n",
        "\n",
        "It would be interesting to see the differences in correlation per brain region. For example, it seems that ir-cfos and pERK-p70s6K correlated in HPC, whereas no such correlation can be seen in HPT."
      ]
    },
    {
      "cell_type": "markdown",
      "metadata": {
        "id": "VFqQ5Gylo71K"
      },
      "source": [
        "### Hypohtamalus (HPT)"
      ]
    },
    {
      "cell_type": "code",
      "metadata": {
        "id": "8SB5yZosb2_5"
      },
      "source": [
        "plt.figure(figsize=(14, 10))\n",
        "heatmapa(df_hpt, 'Correlation matrices for protein expression in HPT - all doses')"
      ],
      "execution_count": null,
      "outputs": []
    },
    {
      "cell_type": "markdown",
      "metadata": {
        "id": "4B9lvPilpADg"
      },
      "source": [
        "### Hypocampus (HPC)"
      ]
    },
    {
      "cell_type": "code",
      "metadata": {
        "id": "b9aUDyxDdiVb"
      },
      "source": [
        "plt.figure(figsize=(14, 10))\n",
        "heatmapa(df_hpc, 'Correlation matrices for protein expression in HPC - all doses')"
      ],
      "execution_count": null,
      "outputs": []
    },
    {
      "cell_type": "markdown",
      "metadata": {
        "id": "hCOLbHUUpL3I"
      },
      "source": [
        "## Correlation of protein expression per antagonist dosage"
      ]
    },
    {
      "cell_type": "markdown",
      "metadata": {
        "id": "x7fgj0McpL3O"
      },
      "source": [
        "### Control"
      ]
    },
    {
      "cell_type": "code",
      "metadata": {
        "id": "U4oN9mPupL3S"
      },
      "source": [
        "plt.figure(figsize=(14, 10))\n",
        "heatmapa(df_ctrl, 'Correlation matrices of protein expression - Control')"
      ],
      "execution_count": null,
      "outputs": []
    },
    {
      "cell_type": "markdown",
      "metadata": {
        "id": "MqLtF3GcpL3g"
      },
      "source": [
        "### GLP60"
      ]
    },
    {
      "cell_type": "code",
      "metadata": {
        "id": "3HzzmI7vpL3h"
      },
      "source": [
        "plt.figure(figsize=(14, 10))\n",
        "heatmapa(df_60, 'Correlation matrices of protein expression - GLP-1 dose 60')"
      ],
      "execution_count": null,
      "outputs": []
    },
    {
      "cell_type": "markdown",
      "metadata": {
        "id": "1H4WY5kIp9DO"
      },
      "source": [
        "### GLP85"
      ]
    },
    {
      "cell_type": "code",
      "metadata": {
        "id": "llxLq-9dp9DV"
      },
      "source": [
        "plt.figure(figsize=(14, 10))\n",
        "heatmapa(df_85, 'Correlation matrices of protein expression - GLP-1 dose 85'))"
      ],
      "execution_count": null,
      "outputs": []
    },
    {
      "cell_type": "markdown",
      "metadata": {
        "id": "zm_aHFnjp-UW"
      },
      "source": [
        "### GLP125"
      ]
    },
    {
      "cell_type": "code",
      "metadata": {
        "id": "LwIFob07p-Ua"
      },
      "source": [
        "plt.figure(figsize=(14, 10))\n",
        "heatmapa(df_60, 'Correlation matrices of protein expression - GLP-1 dose 125')"
      ],
      "execution_count": null,
      "outputs": []
    },
    {
      "cell_type": "markdown",
      "metadata": {
        "id": "RoNg_C--qhs3"
      },
      "source": [
        "In accordance with the plots presented until now, it seems that there is a consistent positive correlation between cfos and IR."
      ]
    },
    {
      "cell_type": "markdown",
      "metadata": {
        "id": "HpnSBG47xXc-"
      },
      "source": [
        "# Differential analysis (how do correlations in protein expression change with respect to control)"
      ]
    },
    {
      "cell_type": "markdown",
      "metadata": {
        "id": "h63PXD9I3vui"
      },
      "source": [
        "#### Helper functions"
      ]
    },
    {
      "cell_type": "code",
      "metadata": {
        "id": "uctv2Pae0J__"
      },
      "source": [
        "def diffDf(ciljniDataframe, referentniDataframe):\n",
        "  columns = (ciljniDataframe.columns.to_list())\n",
        "  columns.remove('ID')\n",
        "  columns.remove('region')\n",
        "  columns.remove('group')\n",
        "\n",
        "  referenca = referentniDataframe.mean()\n",
        "\n",
        "  dataframePromjene = ciljniDataframe.copy()\n",
        "\n",
        "  dataframePromjene[columns] = dataframePromjene[columns] - referenca[columns]\n",
        "  return dataframePromjene"
      ],
      "execution_count": null,
      "outputs": []
    },
    {
      "cell_type": "markdown",
      "metadata": {
        "id": "vd7yu4b13UpR"
      },
      "source": [
        "#### Formming dataframes per region and dosage"
      ]
    },
    {
      "cell_type": "code",
      "metadata": {
        "id": "tWmTHiAxyEr2"
      },
      "source": [
        "diff_df_60_hpt  = diffDf( df_60_hpt, df_ctrl_hpt)\n",
        "diff_df_85_hpt  = diffDf( df_85_hpt, df_ctrl_hpt)\n",
        "diff_df_125_hpt = diffDf(df_125_hpt, df_ctrl_hpt)\n",
        "diff_df_60_hpc  = diffDf( df_60_hpc, df_ctrl_hpc)\n",
        "diff_df_85_hpc  = diffDf( df_85_hpc, df_ctrl_hpc)\n",
        "diff_df_125_hpc = diffDf(df_125_hpc, df_ctrl_hpc)"
      ],
      "execution_count": null,
      "outputs": []
    },
    {
      "cell_type": "markdown",
      "metadata": {
        "id": "qNtOnbkK3cIA"
      },
      "source": [
        "#### Formming dataframes per dosage"
      ]
    },
    {
      "cell_type": "code",
      "metadata": {
        "id": "jPG6Nvm01oXg"
      },
      "source": [
        "diff_df_60   = pd.concat([diff_df_60_hpt,\n",
        "                          diff_df_60_hpc])\n",
        "diff_df_85   = pd.concat([diff_df_85_hpt,\n",
        "                          diff_df_85_hpc])\n",
        "diff_df_125  = pd.concat([diff_df_125_hpt,\n",
        "                          diff_df_125_hpc])"
      ],
      "execution_count": null,
      "outputs": []
    },
    {
      "cell_type": "markdown",
      "metadata": {
        "id": "aatsfN_H3fBo"
      },
      "source": [
        "#### Formming dataframes per region"
      ]
    },
    {
      "cell_type": "code",
      "metadata": {
        "id": "dboKGUp43hAF"
      },
      "source": [
        "diff_df_hpt = pd.concat([ diff_df_60_hpt,\n",
        "                          diff_df_85_hpt,\n",
        "                         diff_df_125_hpt])\n",
        "\n",
        "diff_df_hpc = pd.concat([ diff_df_60_hpc,\n",
        "                          diff_df_85_hpc,\n",
        "                         diff_df_125_hpc])"
      ],
      "execution_count": null,
      "outputs": []
    },
    {
      "cell_type": "markdown",
      "metadata": {
        "id": "OXjxmVhFt46C"
      },
      "source": [
        "#### 3D visualization"
      ]
    },
    {
      "cell_type": "code",
      "metadata": {
        "id": "NvQP7zzwsoDg"
      },
      "source": [
        "fig = px.scatter_3d(diff_df_hpt, x='ir', y='cfos', z='perk', color='group', symbol='region', width=1000, height=700, title='3D vizualizacija testova is hipotalamusa')\n",
        "fig.show()\n",
        "\n",
        "fig = px.scatter_3d(diff_df_hpc, x='ir', y='cfos', z='perk', color='group', symbol='region', width=1000, height=700, title='3D vizualizacija testova is hipokampusa')\n",
        "fig.show()"
      ],
      "execution_count": null,
      "outputs": []
    },
    {
      "cell_type": "markdown",
      "metadata": {
        "id": "R-ETv0P-r16p"
      },
      "source": [
        "#### Reconstruction of global dataframe which represents differential analysis"
      ]
    },
    {
      "cell_type": "code",
      "metadata": {
        "id": "bJ7WalcSr9Ab"
      },
      "source": [
        "diff_df = pd.concat([diff_df_hpt,\n",
        "                     diff_df_hpc])"
      ],
      "execution_count": null,
      "outputs": []
    },
    {
      "cell_type": "code",
      "metadata": {
        "id": "xwr713N0slWG"
      },
      "source": [
        "fig = px.scatter_3d(diff_df , x='ir', y='cfos', z='perk', color='group', symbol='region', width=1000, height=1000)\n",
        "fig.show()"
      ],
      "execution_count": null,
      "outputs": []
    },
    {
      "cell_type": "markdown",
      "metadata": {
        "id": "Y6W0G_XEnC0o"
      },
      "source": [
        "#### 3D Visualization"
      ]
    },
    {
      "cell_type": "markdown",
      "metadata": {
        "id": "joA6IYBJxpjj"
      },
      "source": [
        "### Analysis of changes per dosage and brain region"
      ]
    },
    {
      "cell_type": "markdown",
      "metadata": {
        "id": "WMbsl7AA3qSi"
      },
      "source": [
        "#### Correlation matrix"
      ]
    },
    {
      "cell_type": "code",
      "metadata": {
        "id": "ye4AwR-atXmh"
      },
      "source": [
        "plt.figure(figsize=(30,35))\n",
        "\n",
        "plt.subplot(3, 2, 1)\n",
        "heatmapa( diff_df_60_hpc, 'a) hpc  |  glp60')\n",
        "plt.subplot(3, 2, 2)\n",
        "heatmapa( diff_df_60_hpt, 'b) hpt  |  glp60')\n",
        "\n",
        "plt.subplot(3, 2, 3)\n",
        "heatmapa( diff_df_85_hpc, 'c) hpc  |  glp85')\n",
        "plt.subplot(3, 2, 4)\n",
        "heatmapa( diff_df_85_hpt, 'd) hpt  |  glp85')\n",
        "\n",
        "plt.subplot(3, 2, 5)\n",
        "heatmapa( diff_df_125_hpc, 'e) hpc  |  glp125')\n",
        "plt.subplot(3, 2, 6)\n",
        "heatmapa( diff_df_125_hpt, 'f) hpt  |  glp125')\n"
      ],
      "execution_count": null,
      "outputs": []
    },
    {
      "cell_type": "markdown",
      "metadata": {
        "id": "ZYmYjFfp1XEP"
      },
      "source": [
        "### Analysis of the changes per brain region"
      ]
    },
    {
      "cell_type": "markdown",
      "metadata": {
        "id": "2aeXlrOJ5-Kt"
      },
      "source": [
        "#### Correlation matrix"
      ]
    },
    {
      "cell_type": "code",
      "metadata": {
        "id": "B28dE9bP1XEo"
      },
      "source": [
        "plt.figure(figsize=(30,15))\n",
        "\n",
        "plt.subplot(1, 2, 1)\n",
        "heatmapa( diff_df_hpc, 'a) hpc')\n",
        "plt.subplot(1, 2, 2)\n",
        "heatmapa( diff_df_hpt, 'b) hpt')"
      ],
      "execution_count": null,
      "outputs": []
    }
  ]
}